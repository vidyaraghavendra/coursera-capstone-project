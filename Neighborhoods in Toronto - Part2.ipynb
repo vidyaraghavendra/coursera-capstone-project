{
    "nbformat_minor": 1, 
    "cells": [
        {
            "execution_count": 1, 
            "cell_type": "code", 
            "metadata": {}, 
            "outputs": [], 
            "source": "from bs4 import BeautifulSoup\n\n\nimport numpy as np # library to handle data in a vectorized manner\n\nimport pandas as pd # library for data analsysis\npd.set_option('display.max_columns', None)\npd.set_option('display.max_rows', None)\n\nimport json # library to handle JSON files\n\n#!conda install -c conda-forge geopy --yes # uncomment this line if you haven't completed the Foursquare API lab\nfrom geopy.geocoders import Nominatim # convert an address into latitude and longitude values\n\nimport requests # library to handle requests\nfrom pandas.io.json import json_normalize # tranform JSON file into a pandas dataframe\n\n# Matplotlib and associated plotting modules\nimport matplotlib.cm as cm\nimport matplotlib.colors as colors\n\n# import k-means from clustering stage\nfrom sklearn.cluster import KMeans\n\n#!conda install -c conda-forge folium=0.5.0 --yes # uncomment this line if you haven't completed the Foursquare API lab\nimport folium # map rendering library"
        }, 
        {
            "execution_count": 2, 
            "cell_type": "code", 
            "metadata": {}, 
            "outputs": [], 
            "source": "data = requests.get('https://en.wikipedia.org/wiki/List_of_postal_codes_of_Canada:_M').text\nbSoup = BeautifulSoup(data, 'html.parser')\n#bSoup"
        }, 
        {
            "execution_count": 3, 
            "cell_type": "code", 
            "metadata": {}, 
            "outputs": [], 
            "source": "postalCodeList = []\nboroughList = []\nneighborList = []\n\nfor row in bSoup.find('table').find_all('tr'):\n    cells = row.find_all('td')\n    if(len(cells) > 0):\n        postalCodeList.append(cells[0].text)\n        boroughList.append(cells[1].text)\n        neighborList.append(cells[2].text.rstrip('\\n'))"
        }, 
        {
            "execution_count": 4, 
            "cell_type": "code", 
            "metadata": {}, 
            "outputs": [
                {
                    "execution_count": 4, 
                    "metadata": {}, 
                    "data": {
                        "text/html": "<div>\n<style scoped>\n    .dataframe tbody tr th:only-of-type {\n        vertical-align: middle;\n    }\n\n    .dataframe tbody tr th {\n        vertical-align: top;\n    }\n\n    .dataframe thead th {\n        text-align: right;\n    }\n</style>\n<table border=\"1\" class=\"dataframe\">\n  <thead>\n    <tr style=\"text-align: right;\">\n      <th></th>\n      <th>Borough</th>\n      <th>Neighbourhood</th>\n      <th>PostalCode</th>\n    </tr>\n  </thead>\n  <tbody>\n    <tr>\n      <th>0</th>\n      <td>Not assigned</td>\n      <td>Not assigned</td>\n      <td>M1A</td>\n    </tr>\n    <tr>\n      <th>1</th>\n      <td>Not assigned</td>\n      <td>Not assigned</td>\n      <td>M2A</td>\n    </tr>\n    <tr>\n      <th>2</th>\n      <td>North York</td>\n      <td>Parkwoods</td>\n      <td>M3A</td>\n    </tr>\n    <tr>\n      <th>3</th>\n      <td>North York</td>\n      <td>Victoria Village</td>\n      <td>M4A</td>\n    </tr>\n    <tr>\n      <th>4</th>\n      <td>Downtown Toronto</td>\n      <td>Harbourfront</td>\n      <td>M5A</td>\n    </tr>\n    <tr>\n      <th>5</th>\n      <td>Downtown Toronto</td>\n      <td>Regent Park</td>\n      <td>M5A</td>\n    </tr>\n    <tr>\n      <th>6</th>\n      <td>North York</td>\n      <td>Lawrence Heights</td>\n      <td>M6A</td>\n    </tr>\n    <tr>\n      <th>7</th>\n      <td>North York</td>\n      <td>Lawrence Manor</td>\n      <td>M6A</td>\n    </tr>\n    <tr>\n      <th>8</th>\n      <td>Queen's Park</td>\n      <td>Not assigned</td>\n      <td>M7A</td>\n    </tr>\n    <tr>\n      <th>9</th>\n      <td>Not assigned</td>\n      <td>Not assigned</td>\n      <td>M8A</td>\n    </tr>\n    <tr>\n      <th>10</th>\n      <td>Etobicoke</td>\n      <td>Islington Avenue</td>\n      <td>M9A</td>\n    </tr>\n    <tr>\n      <th>11</th>\n      <td>Scarborough</td>\n      <td>Rouge</td>\n      <td>M1B</td>\n    </tr>\n    <tr>\n      <th>12</th>\n      <td>Scarborough</td>\n      <td>Malvern</td>\n      <td>M1B</td>\n    </tr>\n    <tr>\n      <th>13</th>\n      <td>Not assigned</td>\n      <td>Not assigned</td>\n      <td>M2B</td>\n    </tr>\n    <tr>\n      <th>14</th>\n      <td>North York</td>\n      <td>Don Mills North</td>\n      <td>M3B</td>\n    </tr>\n    <tr>\n      <th>15</th>\n      <td>East York</td>\n      <td>Woodbine Gardens</td>\n      <td>M4B</td>\n    </tr>\n    <tr>\n      <th>16</th>\n      <td>East York</td>\n      <td>Parkview Hill</td>\n      <td>M4B</td>\n    </tr>\n    <tr>\n      <th>17</th>\n      <td>Downtown Toronto</td>\n      <td>Ryerson</td>\n      <td>M5B</td>\n    </tr>\n    <tr>\n      <th>18</th>\n      <td>Downtown Toronto</td>\n      <td>Garden District</td>\n      <td>M5B</td>\n    </tr>\n    <tr>\n      <th>19</th>\n      <td>North York</td>\n      <td>Glencairn</td>\n      <td>M6B</td>\n    </tr>\n  </tbody>\n</table>\n</div>", 
                        "text/plain": "             Borough     Neighbourhood PostalCode\n0       Not assigned      Not assigned        M1A\n1       Not assigned      Not assigned        M2A\n2         North York         Parkwoods        M3A\n3         North York  Victoria Village        M4A\n4   Downtown Toronto      Harbourfront        M5A\n5   Downtown Toronto       Regent Park        M5A\n6         North York  Lawrence Heights        M6A\n7         North York    Lawrence Manor        M6A\n8       Queen's Park      Not assigned        M7A\n9       Not assigned      Not assigned        M8A\n10         Etobicoke  Islington Avenue        M9A\n11       Scarborough             Rouge        M1B\n12       Scarborough           Malvern        M1B\n13      Not assigned      Not assigned        M2B\n14        North York   Don Mills North        M3B\n15         East York  Woodbine Gardens        M4B\n16         East York     Parkview Hill        M4B\n17  Downtown Toronto           Ryerson        M5B\n18  Downtown Toronto   Garden District        M5B\n19        North York         Glencairn        M6B"
                    }, 
                    "output_type": "execute_result"
                }
            ], 
            "source": "#The dataframe will consist of three columns: PostalCode, Borough, and Neighborhood\ntoronto_info = [('PostalCode',postalCodeList), ('Borough', boroughList),('Neighbourhood', neighborList)]\ntoronto_df = pd.DataFrame.from_dict(dict(toronto_info))\ntoronto_df.head(20)"
        }, 
        {
            "execution_count": 5, 
            "cell_type": "code", 
            "metadata": {}, 
            "outputs": [
                {
                    "execution_count": 5, 
                    "metadata": {}, 
                    "data": {
                        "text/html": "<div>\n<style scoped>\n    .dataframe tbody tr th:only-of-type {\n        vertical-align: middle;\n    }\n\n    .dataframe tbody tr th {\n        vertical-align: top;\n    }\n\n    .dataframe thead th {\n        text-align: right;\n    }\n</style>\n<table border=\"1\" class=\"dataframe\">\n  <thead>\n    <tr style=\"text-align: right;\">\n      <th></th>\n      <th>Borough</th>\n      <th>Neighbourhood</th>\n      <th>PostalCode</th>\n    </tr>\n  </thead>\n  <tbody>\n    <tr>\n      <th>0</th>\n      <td>North York</td>\n      <td>Parkwoods</td>\n      <td>M3A</td>\n    </tr>\n    <tr>\n      <th>1</th>\n      <td>North York</td>\n      <td>Victoria Village</td>\n      <td>M4A</td>\n    </tr>\n    <tr>\n      <th>2</th>\n      <td>Downtown Toronto</td>\n      <td>Harbourfront</td>\n      <td>M5A</td>\n    </tr>\n    <tr>\n      <th>3</th>\n      <td>Downtown Toronto</td>\n      <td>Regent Park</td>\n      <td>M5A</td>\n    </tr>\n    <tr>\n      <th>4</th>\n      <td>North York</td>\n      <td>Lawrence Heights</td>\n      <td>M6A</td>\n    </tr>\n    <tr>\n      <th>5</th>\n      <td>North York</td>\n      <td>Lawrence Manor</td>\n      <td>M6A</td>\n    </tr>\n    <tr>\n      <th>6</th>\n      <td>Queen's Park</td>\n      <td>Not assigned</td>\n      <td>M7A</td>\n    </tr>\n    <tr>\n      <th>7</th>\n      <td>Etobicoke</td>\n      <td>Islington Avenue</td>\n      <td>M9A</td>\n    </tr>\n    <tr>\n      <th>8</th>\n      <td>Scarborough</td>\n      <td>Rouge</td>\n      <td>M1B</td>\n    </tr>\n    <tr>\n      <th>9</th>\n      <td>Scarborough</td>\n      <td>Malvern</td>\n      <td>M1B</td>\n    </tr>\n    <tr>\n      <th>10</th>\n      <td>North York</td>\n      <td>Don Mills North</td>\n      <td>M3B</td>\n    </tr>\n    <tr>\n      <th>11</th>\n      <td>East York</td>\n      <td>Woodbine Gardens</td>\n      <td>M4B</td>\n    </tr>\n    <tr>\n      <th>12</th>\n      <td>East York</td>\n      <td>Parkview Hill</td>\n      <td>M4B</td>\n    </tr>\n    <tr>\n      <th>13</th>\n      <td>Downtown Toronto</td>\n      <td>Ryerson</td>\n      <td>M5B</td>\n    </tr>\n    <tr>\n      <th>14</th>\n      <td>Downtown Toronto</td>\n      <td>Garden District</td>\n      <td>M5B</td>\n    </tr>\n    <tr>\n      <th>15</th>\n      <td>North York</td>\n      <td>Glencairn</td>\n      <td>M6B</td>\n    </tr>\n    <tr>\n      <th>16</th>\n      <td>Etobicoke</td>\n      <td>Cloverdale</td>\n      <td>M9B</td>\n    </tr>\n    <tr>\n      <th>17</th>\n      <td>Etobicoke</td>\n      <td>Islington</td>\n      <td>M9B</td>\n    </tr>\n    <tr>\n      <th>18</th>\n      <td>Etobicoke</td>\n      <td>Martin Grove</td>\n      <td>M9B</td>\n    </tr>\n    <tr>\n      <th>19</th>\n      <td>Etobicoke</td>\n      <td>Princess Gardens</td>\n      <td>M9B</td>\n    </tr>\n  </tbody>\n</table>\n</div>", 
                        "text/plain": "             Borough     Neighbourhood PostalCode\n0         North York         Parkwoods        M3A\n1         North York  Victoria Village        M4A\n2   Downtown Toronto      Harbourfront        M5A\n3   Downtown Toronto       Regent Park        M5A\n4         North York  Lawrence Heights        M6A\n5         North York    Lawrence Manor        M6A\n6       Queen's Park      Not assigned        M7A\n7          Etobicoke  Islington Avenue        M9A\n8        Scarborough             Rouge        M1B\n9        Scarborough           Malvern        M1B\n10        North York   Don Mills North        M3B\n11         East York  Woodbine Gardens        M4B\n12         East York     Parkview Hill        M4B\n13  Downtown Toronto           Ryerson        M5B\n14  Downtown Toronto   Garden District        M5B\n15        North York         Glencairn        M6B\n16         Etobicoke        Cloverdale        M9B\n17         Etobicoke         Islington        M9B\n18         Etobicoke      Martin Grove        M9B\n19         Etobicoke  Princess Gardens        M9B"
                    }, 
                    "output_type": "execute_result"
                }
            ], 
            "source": "#Only process the cells that have an assigned borough. Ignore cells with a borough that is Not assigned.\ntoronto_df_filtered = toronto_df[toronto_df.Borough != 'Not assigned'].reset_index(drop=True)\ntoronto_df_filtered.head(20)"
        }, 
        {
            "execution_count": 6, 
            "cell_type": "code", 
            "metadata": {}, 
            "outputs": [
                {
                    "execution_count": 6, 
                    "metadata": {}, 
                    "data": {
                        "text/html": "<div>\n<style scoped>\n    .dataframe tbody tr th:only-of-type {\n        vertical-align: middle;\n    }\n\n    .dataframe tbody tr th {\n        vertical-align: top;\n    }\n\n    .dataframe thead th {\n        text-align: right;\n    }\n</style>\n<table border=\"1\" class=\"dataframe\">\n  <thead>\n    <tr style=\"text-align: right;\">\n      <th></th>\n      <th>PostalCode</th>\n      <th>Borough</th>\n      <th>Neighbourhood</th>\n    </tr>\n  </thead>\n  <tbody>\n    <tr>\n      <th>0</th>\n      <td>M1B</td>\n      <td>Scarborough</td>\n      <td>Rouge,Malvern</td>\n    </tr>\n    <tr>\n      <th>1</th>\n      <td>M1C</td>\n      <td>Scarborough</td>\n      <td>Highland Creek,Rouge Hill,Port Union</td>\n    </tr>\n    <tr>\n      <th>2</th>\n      <td>M1E</td>\n      <td>Scarborough</td>\n      <td>Guildwood,Morningside,West Hill</td>\n    </tr>\n    <tr>\n      <th>3</th>\n      <td>M1G</td>\n      <td>Scarborough</td>\n      <td>Woburn</td>\n    </tr>\n    <tr>\n      <th>4</th>\n      <td>M1H</td>\n      <td>Scarborough</td>\n      <td>Cedarbrae</td>\n    </tr>\n    <tr>\n      <th>5</th>\n      <td>M1J</td>\n      <td>Scarborough</td>\n      <td>Scarborough Village</td>\n    </tr>\n    <tr>\n      <th>6</th>\n      <td>M1K</td>\n      <td>Scarborough</td>\n      <td>East Birchmount Park,Ionview,Kennedy Park</td>\n    </tr>\n    <tr>\n      <th>7</th>\n      <td>M1L</td>\n      <td>Scarborough</td>\n      <td>Clairlea,Golden Mile,Oakridge</td>\n    </tr>\n    <tr>\n      <th>8</th>\n      <td>M1M</td>\n      <td>Scarborough</td>\n      <td>Cliffcrest,Cliffside,Scarborough Village West</td>\n    </tr>\n    <tr>\n      <th>9</th>\n      <td>M1N</td>\n      <td>Scarborough</td>\n      <td>Birch Cliff,Cliffside West</td>\n    </tr>\n    <tr>\n      <th>10</th>\n      <td>M1P</td>\n      <td>Scarborough</td>\n      <td>Dorset Park,Scarborough Town Centre,Wexford He...</td>\n    </tr>\n    <tr>\n      <th>11</th>\n      <td>M1R</td>\n      <td>Scarborough</td>\n      <td>Maryvale,Wexford</td>\n    </tr>\n  </tbody>\n</table>\n</div>", 
                        "text/plain": "   PostalCode      Borough                                      Neighbourhood\n0         M1B  Scarborough                                      Rouge,Malvern\n1         M1C  Scarborough               Highland Creek,Rouge Hill,Port Union\n2         M1E  Scarborough                    Guildwood,Morningside,West Hill\n3         M1G  Scarborough                                             Woburn\n4         M1H  Scarborough                                          Cedarbrae\n5         M1J  Scarborough                                Scarborough Village\n6         M1K  Scarborough          East Birchmount Park,Ionview,Kennedy Park\n7         M1L  Scarborough                      Clairlea,Golden Mile,Oakridge\n8         M1M  Scarborough      Cliffcrest,Cliffside,Scarborough Village West\n9         M1N  Scarborough                         Birch Cliff,Cliffside West\n10        M1P  Scarborough  Dorset Park,Scarborough Town Centre,Wexford He...\n11        M1R  Scarborough                                   Maryvale,Wexford"
                    }, 
                    "output_type": "execute_result"
                }
            ], 
            "source": "#append comma and sort/group based on postal code and  Borough\ntoronto_df_joined = toronto_df_filtered.groupby(['PostalCode','Borough'],as_index=False).agg(lambda x: ','.join(x))\ntoronto_df_joined.head(12)"
        }, 
        {
            "execution_count": 7, 
            "cell_type": "code", 
            "metadata": {}, 
            "outputs": [
                {
                    "execution_count": 7, 
                    "metadata": {}, 
                    "data": {
                        "text/plain": "(103, 3)"
                    }, 
                    "output_type": "execute_result"
                }
            ], 
            "source": "# use the .shape method to print the number of rows of your dataframe.\ntoronto_df_joined.shape"
        }, 
        {
            "execution_count": 8, 
            "cell_type": "code", 
            "metadata": {}, 
            "outputs": [
                {
                    "execution_count": 8, 
                    "metadata": {}, 
                    "data": {
                        "text/html": "<div>\n<style scoped>\n    .dataframe tbody tr th:only-of-type {\n        vertical-align: middle;\n    }\n\n    .dataframe tbody tr th {\n        vertical-align: top;\n    }\n\n    .dataframe thead th {\n        text-align: right;\n    }\n</style>\n<table border=\"1\" class=\"dataframe\">\n  <thead>\n    <tr style=\"text-align: right;\">\n      <th></th>\n      <th>Postal Code</th>\n      <th>Latitude</th>\n      <th>Longitude</th>\n    </tr>\n  </thead>\n  <tbody>\n    <tr>\n      <th>0</th>\n      <td>M1B</td>\n      <td>43.806686</td>\n      <td>-79.194353</td>\n    </tr>\n    <tr>\n      <th>1</th>\n      <td>M1C</td>\n      <td>43.784535</td>\n      <td>-79.160497</td>\n    </tr>\n    <tr>\n      <th>2</th>\n      <td>M1E</td>\n      <td>43.763573</td>\n      <td>-79.188711</td>\n    </tr>\n    <tr>\n      <th>3</th>\n      <td>M1G</td>\n      <td>43.770992</td>\n      <td>-79.216917</td>\n    </tr>\n    <tr>\n      <th>4</th>\n      <td>M1H</td>\n      <td>43.773136</td>\n      <td>-79.239476</td>\n    </tr>\n  </tbody>\n</table>\n</div>", 
                        "text/plain": "  Postal Code   Latitude  Longitude\n0         M1B  43.806686 -79.194353\n1         M1C  43.784535 -79.160497\n2         M1E  43.763573 -79.188711\n3         M1G  43.770992 -79.216917\n4         M1H  43.773136 -79.239476"
                    }, 
                    "output_type": "execute_result"
                }
            ], 
            "source": "#using the e Geocoder package\nurl=\"http://cocl.us/Geospatial_data\"\ncoordinates = pd.read_csv(url)\ncoordinates.head()"
        }, 
        {
            "execution_count": 9, 
            "cell_type": "code", 
            "metadata": {}, 
            "outputs": [
                {
                    "execution_count": 9, 
                    "metadata": {}, 
                    "data": {
                        "text/html": "<div>\n<style scoped>\n    .dataframe tbody tr th:only-of-type {\n        vertical-align: middle;\n    }\n\n    .dataframe tbody tr th {\n        vertical-align: top;\n    }\n\n    .dataframe thead th {\n        text-align: right;\n    }\n</style>\n<table border=\"1\" class=\"dataframe\">\n  <thead>\n    <tr style=\"text-align: right;\">\n      <th></th>\n      <th>PostalCode</th>\n      <th>Borough</th>\n      <th>Neighbourhood</th>\n      <th>Latitude</th>\n      <th>Longitude</th>\n    </tr>\n  </thead>\n  <tbody>\n    <tr>\n      <th>0</th>\n      <td>M1B</td>\n      <td>Scarborough</td>\n      <td>Rouge,Malvern</td>\n      <td>43.806686</td>\n      <td>-79.194353</td>\n    </tr>\n    <tr>\n      <th>1</th>\n      <td>M1C</td>\n      <td>Scarborough</td>\n      <td>Highland Creek,Rouge Hill,Port Union</td>\n      <td>43.784535</td>\n      <td>-79.160497</td>\n    </tr>\n    <tr>\n      <th>2</th>\n      <td>M1E</td>\n      <td>Scarborough</td>\n      <td>Guildwood,Morningside,West Hill</td>\n      <td>43.763573</td>\n      <td>-79.188711</td>\n    </tr>\n    <tr>\n      <th>3</th>\n      <td>M1G</td>\n      <td>Scarborough</td>\n      <td>Woburn</td>\n      <td>43.770992</td>\n      <td>-79.216917</td>\n    </tr>\n    <tr>\n      <th>4</th>\n      <td>M1H</td>\n      <td>Scarborough</td>\n      <td>Cedarbrae</td>\n      <td>43.773136</td>\n      <td>-79.239476</td>\n    </tr>\n    <tr>\n      <th>5</th>\n      <td>M1J</td>\n      <td>Scarborough</td>\n      <td>Scarborough Village</td>\n      <td>43.744734</td>\n      <td>-79.239476</td>\n    </tr>\n    <tr>\n      <th>6</th>\n      <td>M1K</td>\n      <td>Scarborough</td>\n      <td>East Birchmount Park,Ionview,Kennedy Park</td>\n      <td>43.727929</td>\n      <td>-79.262029</td>\n    </tr>\n    <tr>\n      <th>7</th>\n      <td>M1L</td>\n      <td>Scarborough</td>\n      <td>Clairlea,Golden Mile,Oakridge</td>\n      <td>43.711112</td>\n      <td>-79.284577</td>\n    </tr>\n    <tr>\n      <th>8</th>\n      <td>M1M</td>\n      <td>Scarborough</td>\n      <td>Cliffcrest,Cliffside,Scarborough Village West</td>\n      <td>43.716316</td>\n      <td>-79.239476</td>\n    </tr>\n    <tr>\n      <th>9</th>\n      <td>M1N</td>\n      <td>Scarborough</td>\n      <td>Birch Cliff,Cliffside West</td>\n      <td>43.692657</td>\n      <td>-79.264848</td>\n    </tr>\n    <tr>\n      <th>10</th>\n      <td>M1P</td>\n      <td>Scarborough</td>\n      <td>Dorset Park,Scarborough Town Centre,Wexford He...</td>\n      <td>43.757410</td>\n      <td>-79.273304</td>\n    </tr>\n    <tr>\n      <th>11</th>\n      <td>M1R</td>\n      <td>Scarborough</td>\n      <td>Maryvale,Wexford</td>\n      <td>43.750072</td>\n      <td>-79.295849</td>\n    </tr>\n  </tbody>\n</table>\n</div>", 
                        "text/plain": "   PostalCode      Borough                                      Neighbourhood  \\\n0         M1B  Scarborough                                      Rouge,Malvern   \n1         M1C  Scarborough               Highland Creek,Rouge Hill,Port Union   \n2         M1E  Scarborough                    Guildwood,Morningside,West Hill   \n3         M1G  Scarborough                                             Woburn   \n4         M1H  Scarborough                                          Cedarbrae   \n5         M1J  Scarborough                                Scarborough Village   \n6         M1K  Scarborough          East Birchmount Park,Ionview,Kennedy Park   \n7         M1L  Scarborough                      Clairlea,Golden Mile,Oakridge   \n8         M1M  Scarborough      Cliffcrest,Cliffside,Scarborough Village West   \n9         M1N  Scarborough                         Birch Cliff,Cliffside West   \n10        M1P  Scarborough  Dorset Park,Scarborough Town Centre,Wexford He...   \n11        M1R  Scarborough                                   Maryvale,Wexford   \n\n     Latitude  Longitude  \n0   43.806686 -79.194353  \n1   43.784535 -79.160497  \n2   43.763573 -79.188711  \n3   43.770992 -79.216917  \n4   43.773136 -79.239476  \n5   43.744734 -79.239476  \n6   43.727929 -79.262029  \n7   43.711112 -79.284577  \n8   43.716316 -79.239476  \n9   43.692657 -79.264848  \n10  43.757410 -79.273304  \n11  43.750072 -79.295849  "
                    }, 
                    "output_type": "execute_result"
                }
            ], 
            "source": "toronto_df_join = toronto_df_joined.set_index('PostalCode')\ncoordinates_join = coordinates.set_index('Postal Code')\ntoronto_df_coordinates = pd.concat([toronto_df_join, coordinates_join], axis=1, join='inner')\ntoronto_df_coordinates.index.name = 'PostalCode'\n\ntoronto_df_coordinates.reset_index(inplace=True)\ntoronto_df_coordinates.head(12)"
        }, 
        {
            "execution_count": 10, 
            "cell_type": "code", 
            "metadata": {}, 
            "outputs": [
                {
                    "execution_count": 10, 
                    "metadata": {}, 
                    "data": {
                        "text/plain": "(103, 5)"
                    }, 
                    "output_type": "execute_result"
                }
            ], 
            "source": "toronto_df_coordinates.shape"
        }, 
        {
            "execution_count": null, 
            "cell_type": "code", 
            "metadata": {}, 
            "outputs": [], 
            "source": ""
        }, 
        {
            "execution_count": null, 
            "cell_type": "code", 
            "metadata": {}, 
            "outputs": [], 
            "source": ""
        }
    ], 
    "metadata": {
        "kernelspec": {
            "display_name": "Python 3.5", 
            "name": "python3", 
            "language": "python"
        }, 
        "language_info": {
            "mimetype": "text/x-python", 
            "nbconvert_exporter": "python", 
            "version": "3.5.5", 
            "name": "python", 
            "file_extension": ".py", 
            "pygments_lexer": "ipython3", 
            "codemirror_mode": {
                "version": 3, 
                "name": "ipython"
            }
        }
    }, 
    "nbformat": 4
}