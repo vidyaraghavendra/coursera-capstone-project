{
    "nbformat_minor": 1, 
    "cells": [
        {
            "source": "# Neighbours in Toronto", 
            "cell_type": "markdown", 
            "metadata": {
                "collapsed": true
            }
        }, 
        {
            "source": "### TASK 1", 
            "cell_type": "markdown", 
            "metadata": {}
        }, 
        {
            "execution_count": 47, 
            "cell_type": "code", 
            "metadata": {}, 
            "outputs": [
                {
                    "ename": "ImportError", 
                    "evalue": "No module named 'folium'", 
                    "traceback": [
                        "\u001b[0;31m---------------------------------------------------------------------------\u001b[0m", 
                        "\u001b[0;31mImportError\u001b[0m                               Traceback (most recent call last)", 
                        "\u001b[0;32m<ipython-input-47-9a8e912c2dd9>\u001b[0m in \u001b[0;36m<module>\u001b[0;34m()\u001b[0m\n\u001b[1;32m     25\u001b[0m \u001b[0;34m\u001b[0m\u001b[0m\n\u001b[1;32m     26\u001b[0m \u001b[0;31m#!conda install -c conda-forge folium=0.5.0 --yes # uncomment this line if you haven't completed the Foursquare API lab\u001b[0m\u001b[0;34m\u001b[0m\u001b[0;34m\u001b[0m\u001b[0m\n\u001b[0;32m---> 27\u001b[0;31m \u001b[0;32mimport\u001b[0m \u001b[0mfolium\u001b[0m \u001b[0;31m# map rendering library\u001b[0m\u001b[0;34m\u001b[0m\u001b[0m\n\u001b[0m", 
                        "\u001b[0;31mImportError\u001b[0m: No module named 'folium'"
                    ], 
                    "output_type": "error"
                }
            ], 
            "source": "\nfrom bs4 import BeautifulSoup\n\n\nimport numpy as np # library to handle data in a vectorized manner\n\nimport pandas as pd # library for data analsysis\npd.set_option('display.max_columns', None)\npd.set_option('display.max_rows', None)\n\nimport json # library to handle JSON files\n\n#!conda install -c conda-forge geopy --yes # uncomment this line if you haven't completed the Foursquare API lab\nfrom geopy.geocoders import Nominatim # convert an address into latitude and longitude values\n\nimport requests # library to handle requests\nfrom pandas.io.json import json_normalize # tranform JSON file into a pandas dataframe\n\n# Matplotlib and associated plotting modules\nimport matplotlib.cm as cm\nimport matplotlib.colors as colors\n\n# import k-means from clustering stage\nfrom sklearn.cluster import KMeans\n\n#!conda install -c conda-forge folium=0.5.0 --yes # uncomment this line if you haven't completed the Foursquare API lab\nimport folium # map rendering library"
        }, 
        {
            "execution_count": 27, 
            "cell_type": "code", 
            "metadata": {}, 
            "outputs": [], 
            "source": "data = requests.get('https://en.wikipedia.org/wiki/List_of_postal_codes_of_Canada:_M').text\nbSoup = BeautifulSoup(data, 'html.parser')\n#bSoup"
        }, 
        {
            "execution_count": 10, 
            "cell_type": "code", 
            "metadata": {}, 
            "outputs": [], 
            "source": "postalCodeList = []\nboroughList = []\nneighborList = []\n\nfor row in bSoup.find('table').find_all('tr'):\n    cells = row.find_all('td')\n    if(len(cells) > 0):\n        postalCodeList.append(cells[0].text)\n        boroughList.append(cells[1].text)\n        neighborList.append(cells[2].text.rstrip('\\n'))"
        }, 
        {
            "execution_count": 17, 
            "cell_type": "code", 
            "metadata": {}, 
            "outputs": [
                {
                    "execution_count": 17, 
                    "metadata": {}, 
                    "data": {
                        "text/html": "<div>\n<style scoped>\n    .dataframe tbody tr th:only-of-type {\n        vertical-align: middle;\n    }\n\n    .dataframe tbody tr th {\n        vertical-align: top;\n    }\n\n    .dataframe thead th {\n        text-align: right;\n    }\n</style>\n<table border=\"1\" class=\"dataframe\">\n  <thead>\n    <tr style=\"text-align: right;\">\n      <th></th>\n      <th>Borough</th>\n      <th>Neighbourhood</th>\n      <th>PostalCode</th>\n    </tr>\n  </thead>\n  <tbody>\n    <tr>\n      <th>0</th>\n      <td>Not assigned</td>\n      <td>Not assigned</td>\n      <td>M1A</td>\n    </tr>\n    <tr>\n      <th>1</th>\n      <td>Not assigned</td>\n      <td>Not assigned</td>\n      <td>M2A</td>\n    </tr>\n    <tr>\n      <th>2</th>\n      <td>North York</td>\n      <td>Parkwoods</td>\n      <td>M3A</td>\n    </tr>\n    <tr>\n      <th>3</th>\n      <td>North York</td>\n      <td>Victoria Village</td>\n      <td>M4A</td>\n    </tr>\n    <tr>\n      <th>4</th>\n      <td>Downtown Toronto</td>\n      <td>Harbourfront</td>\n      <td>M5A</td>\n    </tr>\n    <tr>\n      <th>5</th>\n      <td>Downtown Toronto</td>\n      <td>Regent Park</td>\n      <td>M5A</td>\n    </tr>\n    <tr>\n      <th>6</th>\n      <td>North York</td>\n      <td>Lawrence Heights</td>\n      <td>M6A</td>\n    </tr>\n    <tr>\n      <th>7</th>\n      <td>North York</td>\n      <td>Lawrence Manor</td>\n      <td>M6A</td>\n    </tr>\n    <tr>\n      <th>8</th>\n      <td>Queen's Park</td>\n      <td>Not assigned</td>\n      <td>M7A</td>\n    </tr>\n    <tr>\n      <th>9</th>\n      <td>Not assigned</td>\n      <td>Not assigned</td>\n      <td>M8A</td>\n    </tr>\n    <tr>\n      <th>10</th>\n      <td>Etobicoke</td>\n      <td>Islington Avenue</td>\n      <td>M9A</td>\n    </tr>\n    <tr>\n      <th>11</th>\n      <td>Scarborough</td>\n      <td>Rouge</td>\n      <td>M1B</td>\n    </tr>\n    <tr>\n      <th>12</th>\n      <td>Scarborough</td>\n      <td>Malvern</td>\n      <td>M1B</td>\n    </tr>\n    <tr>\n      <th>13</th>\n      <td>Not assigned</td>\n      <td>Not assigned</td>\n      <td>M2B</td>\n    </tr>\n    <tr>\n      <th>14</th>\n      <td>North York</td>\n      <td>Don Mills North</td>\n      <td>M3B</td>\n    </tr>\n    <tr>\n      <th>15</th>\n      <td>East York</td>\n      <td>Woodbine Gardens</td>\n      <td>M4B</td>\n    </tr>\n    <tr>\n      <th>16</th>\n      <td>East York</td>\n      <td>Parkview Hill</td>\n      <td>M4B</td>\n    </tr>\n    <tr>\n      <th>17</th>\n      <td>Downtown Toronto</td>\n      <td>Ryerson</td>\n      <td>M5B</td>\n    </tr>\n    <tr>\n      <th>18</th>\n      <td>Downtown Toronto</td>\n      <td>Garden District</td>\n      <td>M5B</td>\n    </tr>\n    <tr>\n      <th>19</th>\n      <td>North York</td>\n      <td>Glencairn</td>\n      <td>M6B</td>\n    </tr>\n  </tbody>\n</table>\n</div>", 
                        "text/plain": "             Borough     Neighbourhood PostalCode\n0       Not assigned      Not assigned        M1A\n1       Not assigned      Not assigned        M2A\n2         North York         Parkwoods        M3A\n3         North York  Victoria Village        M4A\n4   Downtown Toronto      Harbourfront        M5A\n5   Downtown Toronto       Regent Park        M5A\n6         North York  Lawrence Heights        M6A\n7         North York    Lawrence Manor        M6A\n8       Queen's Park      Not assigned        M7A\n9       Not assigned      Not assigned        M8A\n10         Etobicoke  Islington Avenue        M9A\n11       Scarborough             Rouge        M1B\n12       Scarborough           Malvern        M1B\n13      Not assigned      Not assigned        M2B\n14        North York   Don Mills North        M3B\n15         East York  Woodbine Gardens        M4B\n16         East York     Parkview Hill        M4B\n17  Downtown Toronto           Ryerson        M5B\n18  Downtown Toronto   Garden District        M5B\n19        North York         Glencairn        M6B"
                    }, 
                    "output_type": "execute_result"
                }
            ], 
            "source": "#The dataframe will consist of three columns: PostalCode, Borough, and Neighborhood\ntoronto_info = [('PostalCode',postalCodeList), ('Borough', boroughList),('Neighbourhood', neighborList)]\ntoronto_df = pd.DataFrame.from_dict(dict(toronto_info))\ntoronto_df.head(20)"
        }, 
        {
            "execution_count": 19, 
            "cell_type": "code", 
            "metadata": {}, 
            "outputs": [
                {
                    "execution_count": 19, 
                    "metadata": {}, 
                    "data": {
                        "text/html": "<div>\n<style scoped>\n    .dataframe tbody tr th:only-of-type {\n        vertical-align: middle;\n    }\n\n    .dataframe tbody tr th {\n        vertical-align: top;\n    }\n\n    .dataframe thead th {\n        text-align: right;\n    }\n</style>\n<table border=\"1\" class=\"dataframe\">\n  <thead>\n    <tr style=\"text-align: right;\">\n      <th></th>\n      <th>Borough</th>\n      <th>Neighbourhood</th>\n      <th>PostalCode</th>\n    </tr>\n  </thead>\n  <tbody>\n    <tr>\n      <th>0</th>\n      <td>North York</td>\n      <td>Parkwoods</td>\n      <td>M3A</td>\n    </tr>\n    <tr>\n      <th>1</th>\n      <td>North York</td>\n      <td>Victoria Village</td>\n      <td>M4A</td>\n    </tr>\n    <tr>\n      <th>2</th>\n      <td>Downtown Toronto</td>\n      <td>Harbourfront</td>\n      <td>M5A</td>\n    </tr>\n    <tr>\n      <th>3</th>\n      <td>Downtown Toronto</td>\n      <td>Regent Park</td>\n      <td>M5A</td>\n    </tr>\n    <tr>\n      <th>4</th>\n      <td>North York</td>\n      <td>Lawrence Heights</td>\n      <td>M6A</td>\n    </tr>\n    <tr>\n      <th>5</th>\n      <td>North York</td>\n      <td>Lawrence Manor</td>\n      <td>M6A</td>\n    </tr>\n    <tr>\n      <th>6</th>\n      <td>Queen's Park</td>\n      <td>Not assigned</td>\n      <td>M7A</td>\n    </tr>\n    <tr>\n      <th>7</th>\n      <td>Etobicoke</td>\n      <td>Islington Avenue</td>\n      <td>M9A</td>\n    </tr>\n    <tr>\n      <th>8</th>\n      <td>Scarborough</td>\n      <td>Rouge</td>\n      <td>M1B</td>\n    </tr>\n    <tr>\n      <th>9</th>\n      <td>Scarborough</td>\n      <td>Malvern</td>\n      <td>M1B</td>\n    </tr>\n    <tr>\n      <th>10</th>\n      <td>North York</td>\n      <td>Don Mills North</td>\n      <td>M3B</td>\n    </tr>\n    <tr>\n      <th>11</th>\n      <td>East York</td>\n      <td>Woodbine Gardens</td>\n      <td>M4B</td>\n    </tr>\n    <tr>\n      <th>12</th>\n      <td>East York</td>\n      <td>Parkview Hill</td>\n      <td>M4B</td>\n    </tr>\n    <tr>\n      <th>13</th>\n      <td>Downtown Toronto</td>\n      <td>Ryerson</td>\n      <td>M5B</td>\n    </tr>\n    <tr>\n      <th>14</th>\n      <td>Downtown Toronto</td>\n      <td>Garden District</td>\n      <td>M5B</td>\n    </tr>\n    <tr>\n      <th>15</th>\n      <td>North York</td>\n      <td>Glencairn</td>\n      <td>M6B</td>\n    </tr>\n    <tr>\n      <th>16</th>\n      <td>Etobicoke</td>\n      <td>Cloverdale</td>\n      <td>M9B</td>\n    </tr>\n    <tr>\n      <th>17</th>\n      <td>Etobicoke</td>\n      <td>Islington</td>\n      <td>M9B</td>\n    </tr>\n    <tr>\n      <th>18</th>\n      <td>Etobicoke</td>\n      <td>Martin Grove</td>\n      <td>M9B</td>\n    </tr>\n    <tr>\n      <th>19</th>\n      <td>Etobicoke</td>\n      <td>Princess Gardens</td>\n      <td>M9B</td>\n    </tr>\n  </tbody>\n</table>\n</div>", 
                        "text/plain": "             Borough     Neighbourhood PostalCode\n0         North York         Parkwoods        M3A\n1         North York  Victoria Village        M4A\n2   Downtown Toronto      Harbourfront        M5A\n3   Downtown Toronto       Regent Park        M5A\n4         North York  Lawrence Heights        M6A\n5         North York    Lawrence Manor        M6A\n6       Queen's Park      Not assigned        M7A\n7          Etobicoke  Islington Avenue        M9A\n8        Scarborough             Rouge        M1B\n9        Scarborough           Malvern        M1B\n10        North York   Don Mills North        M3B\n11         East York  Woodbine Gardens        M4B\n12         East York     Parkview Hill        M4B\n13  Downtown Toronto           Ryerson        M5B\n14  Downtown Toronto   Garden District        M5B\n15        North York         Glencairn        M6B\n16         Etobicoke        Cloverdale        M9B\n17         Etobicoke         Islington        M9B\n18         Etobicoke      Martin Grove        M9B\n19         Etobicoke  Princess Gardens        M9B"
                    }, 
                    "output_type": "execute_result"
                }
            ], 
            "source": "#Only process the cells that have an assigned borough. Ignore cells with a borough that is Not assigned.\ntoronto_df_filtered = toronto_df[toronto_df.Borough != 'Not assigned'].reset_index(drop=True)\ntoronto_df_filtered.head(20)"
        }, 
        {
            "execution_count": 38, 
            "cell_type": "code", 
            "metadata": {}, 
            "outputs": [
                {
                    "execution_count": 38, 
                    "metadata": {}, 
                    "data": {
                        "text/html": "<div>\n<style scoped>\n    .dataframe tbody tr th:only-of-type {\n        vertical-align: middle;\n    }\n\n    .dataframe tbody tr th {\n        vertical-align: top;\n    }\n\n    .dataframe thead th {\n        text-align: right;\n    }\n</style>\n<table border=\"1\" class=\"dataframe\">\n  <thead>\n    <tr style=\"text-align: right;\">\n      <th></th>\n      <th>PostalCode</th>\n      <th>Borough</th>\n      <th>Neighbourhood</th>\n    </tr>\n  </thead>\n  <tbody>\n    <tr>\n      <th>0</th>\n      <td>M1B</td>\n      <td>Scarborough</td>\n      <td>Rouge,Malvern</td>\n    </tr>\n    <tr>\n      <th>1</th>\n      <td>M1C</td>\n      <td>Scarborough</td>\n      <td>Highland Creek,Rouge Hill,Port Union</td>\n    </tr>\n    <tr>\n      <th>2</th>\n      <td>M1E</td>\n      <td>Scarborough</td>\n      <td>Guildwood,Morningside,West Hill</td>\n    </tr>\n    <tr>\n      <th>3</th>\n      <td>M1G</td>\n      <td>Scarborough</td>\n      <td>Woburn</td>\n    </tr>\n    <tr>\n      <th>4</th>\n      <td>M1H</td>\n      <td>Scarborough</td>\n      <td>Cedarbrae</td>\n    </tr>\n    <tr>\n      <th>5</th>\n      <td>M1J</td>\n      <td>Scarborough</td>\n      <td>Scarborough Village</td>\n    </tr>\n    <tr>\n      <th>6</th>\n      <td>M1K</td>\n      <td>Scarborough</td>\n      <td>East Birchmount Park,Ionview,Kennedy Park</td>\n    </tr>\n    <tr>\n      <th>7</th>\n      <td>M1L</td>\n      <td>Scarborough</td>\n      <td>Clairlea,Golden Mile,Oakridge</td>\n    </tr>\n    <tr>\n      <th>8</th>\n      <td>M1M</td>\n      <td>Scarborough</td>\n      <td>Cliffcrest,Cliffside,Scarborough Village West</td>\n    </tr>\n    <tr>\n      <th>9</th>\n      <td>M1N</td>\n      <td>Scarborough</td>\n      <td>Birch Cliff,Cliffside West</td>\n    </tr>\n    <tr>\n      <th>10</th>\n      <td>M1P</td>\n      <td>Scarborough</td>\n      <td>Dorset Park,Scarborough Town Centre,Wexford He...</td>\n    </tr>\n    <tr>\n      <th>11</th>\n      <td>M1R</td>\n      <td>Scarborough</td>\n      <td>Maryvale,Wexford</td>\n    </tr>\n  </tbody>\n</table>\n</div>", 
                        "text/plain": "   PostalCode      Borough                                      Neighbourhood\n0         M1B  Scarborough                                      Rouge,Malvern\n1         M1C  Scarborough               Highland Creek,Rouge Hill,Port Union\n2         M1E  Scarborough                    Guildwood,Morningside,West Hill\n3         M1G  Scarborough                                             Woburn\n4         M1H  Scarborough                                          Cedarbrae\n5         M1J  Scarborough                                Scarborough Village\n6         M1K  Scarborough          East Birchmount Park,Ionview,Kennedy Park\n7         M1L  Scarborough                      Clairlea,Golden Mile,Oakridge\n8         M1M  Scarborough      Cliffcrest,Cliffside,Scarborough Village West\n9         M1N  Scarborough                         Birch Cliff,Cliffside West\n10        M1P  Scarborough  Dorset Park,Scarborough Town Centre,Wexford He...\n11        M1R  Scarborough                                   Maryvale,Wexford"
                    }, 
                    "output_type": "execute_result"
                }
            ], 
            "source": "#append comma and sort/group based on postal code and  Borough\ntoronto_df_joined = toronto_df_filtered.groupby(['PostalCode','Borough'],as_index=False).agg(lambda x: ','.join(x))\ntoronto_df_joined.head(12)"
        }, 
        {
            "execution_count": 26, 
            "cell_type": "code", 
            "metadata": {}, 
            "outputs": [
                {
                    "execution_count": 26, 
                    "metadata": {}, 
                    "data": {
                        "text/plain": "(103, 3)"
                    }, 
                    "output_type": "execute_result"
                }
            ], 
            "source": "# use the .shape method to print the number of rows of your dataframe.\ntoronto_df_joined.shape"
        }, 
        {
            "source": "### TASK 2", 
            "cell_type": "markdown", 
            "metadata": {}
        }, 
        {
            "execution_count": 32, 
            "cell_type": "code", 
            "metadata": {}, 
            "outputs": [
                {
                    "execution_count": 32, 
                    "metadata": {}, 
                    "data": {
                        "text/html": "<div>\n<style scoped>\n    .dataframe tbody tr th:only-of-type {\n        vertical-align: middle;\n    }\n\n    .dataframe tbody tr th {\n        vertical-align: top;\n    }\n\n    .dataframe thead th {\n        text-align: right;\n    }\n</style>\n<table border=\"1\" class=\"dataframe\">\n  <thead>\n    <tr style=\"text-align: right;\">\n      <th></th>\n      <th>Postal Code</th>\n      <th>Latitude</th>\n      <th>Longitude</th>\n    </tr>\n  </thead>\n  <tbody>\n    <tr>\n      <th>0</th>\n      <td>M1B</td>\n      <td>43.806686</td>\n      <td>-79.194353</td>\n    </tr>\n    <tr>\n      <th>1</th>\n      <td>M1C</td>\n      <td>43.784535</td>\n      <td>-79.160497</td>\n    </tr>\n    <tr>\n      <th>2</th>\n      <td>M1E</td>\n      <td>43.763573</td>\n      <td>-79.188711</td>\n    </tr>\n    <tr>\n      <th>3</th>\n      <td>M1G</td>\n      <td>43.770992</td>\n      <td>-79.216917</td>\n    </tr>\n    <tr>\n      <th>4</th>\n      <td>M1H</td>\n      <td>43.773136</td>\n      <td>-79.239476</td>\n    </tr>\n  </tbody>\n</table>\n</div>", 
                        "text/plain": "  Postal Code   Latitude  Longitude\n0         M1B  43.806686 -79.194353\n1         M1C  43.784535 -79.160497\n2         M1E  43.763573 -79.188711\n3         M1G  43.770992 -79.216917\n4         M1H  43.773136 -79.239476"
                    }, 
                    "output_type": "execute_result"
                }
            ], 
            "source": "#using the e Geocoder package\nurl=\"http://cocl.us/Geospatial_data\"\ncoordinates = pd.read_csv(url)\ncoordinates.head()"
        }, 
        {
            "execution_count": 37, 
            "cell_type": "code", 
            "metadata": {}, 
            "outputs": [
                {
                    "execution_count": 37, 
                    "metadata": {}, 
                    "data": {
                        "text/html": "<div>\n<style scoped>\n    .dataframe tbody tr th:only-of-type {\n        vertical-align: middle;\n    }\n\n    .dataframe tbody tr th {\n        vertical-align: top;\n    }\n\n    .dataframe thead th {\n        text-align: right;\n    }\n</style>\n<table border=\"1\" class=\"dataframe\">\n  <thead>\n    <tr style=\"text-align: right;\">\n      <th></th>\n      <th>PostalCode</th>\n      <th>Borough</th>\n      <th>Neighbourhood</th>\n      <th>Latitude</th>\n      <th>Longitude</th>\n    </tr>\n  </thead>\n  <tbody>\n    <tr>\n      <th>0</th>\n      <td>M1B</td>\n      <td>Scarborough</td>\n      <td>Rouge,Malvern</td>\n      <td>43.806686</td>\n      <td>-79.194353</td>\n    </tr>\n    <tr>\n      <th>1</th>\n      <td>M1C</td>\n      <td>Scarborough</td>\n      <td>Highland Creek,Rouge Hill,Port Union</td>\n      <td>43.784535</td>\n      <td>-79.160497</td>\n    </tr>\n    <tr>\n      <th>2</th>\n      <td>M1E</td>\n      <td>Scarborough</td>\n      <td>Guildwood,Morningside,West Hill</td>\n      <td>43.763573</td>\n      <td>-79.188711</td>\n    </tr>\n    <tr>\n      <th>3</th>\n      <td>M1G</td>\n      <td>Scarborough</td>\n      <td>Woburn</td>\n      <td>43.770992</td>\n      <td>-79.216917</td>\n    </tr>\n    <tr>\n      <th>4</th>\n      <td>M1H</td>\n      <td>Scarborough</td>\n      <td>Cedarbrae</td>\n      <td>43.773136</td>\n      <td>-79.239476</td>\n    </tr>\n    <tr>\n      <th>5</th>\n      <td>M1J</td>\n      <td>Scarborough</td>\n      <td>Scarborough Village</td>\n      <td>43.744734</td>\n      <td>-79.239476</td>\n    </tr>\n    <tr>\n      <th>6</th>\n      <td>M1K</td>\n      <td>Scarborough</td>\n      <td>East Birchmount Park,Ionview,Kennedy Park</td>\n      <td>43.727929</td>\n      <td>-79.262029</td>\n    </tr>\n    <tr>\n      <th>7</th>\n      <td>M1L</td>\n      <td>Scarborough</td>\n      <td>Clairlea,Golden Mile,Oakridge</td>\n      <td>43.711112</td>\n      <td>-79.284577</td>\n    </tr>\n    <tr>\n      <th>8</th>\n      <td>M1M</td>\n      <td>Scarborough</td>\n      <td>Cliffcrest,Cliffside,Scarborough Village West</td>\n      <td>43.716316</td>\n      <td>-79.239476</td>\n    </tr>\n    <tr>\n      <th>9</th>\n      <td>M1N</td>\n      <td>Scarborough</td>\n      <td>Birch Cliff,Cliffside West</td>\n      <td>43.692657</td>\n      <td>-79.264848</td>\n    </tr>\n    <tr>\n      <th>10</th>\n      <td>M1P</td>\n      <td>Scarborough</td>\n      <td>Dorset Park,Scarborough Town Centre,Wexford He...</td>\n      <td>43.757410</td>\n      <td>-79.273304</td>\n    </tr>\n    <tr>\n      <th>11</th>\n      <td>M1R</td>\n      <td>Scarborough</td>\n      <td>Maryvale,Wexford</td>\n      <td>43.750072</td>\n      <td>-79.295849</td>\n    </tr>\n  </tbody>\n</table>\n</div>", 
                        "text/plain": "   PostalCode      Borough                                      Neighbourhood  \\\n0         M1B  Scarborough                                      Rouge,Malvern   \n1         M1C  Scarborough               Highland Creek,Rouge Hill,Port Union   \n2         M1E  Scarborough                    Guildwood,Morningside,West Hill   \n3         M1G  Scarborough                                             Woburn   \n4         M1H  Scarborough                                          Cedarbrae   \n5         M1J  Scarborough                                Scarborough Village   \n6         M1K  Scarborough          East Birchmount Park,Ionview,Kennedy Park   \n7         M1L  Scarborough                      Clairlea,Golden Mile,Oakridge   \n8         M1M  Scarborough      Cliffcrest,Cliffside,Scarborough Village West   \n9         M1N  Scarborough                         Birch Cliff,Cliffside West   \n10        M1P  Scarborough  Dorset Park,Scarborough Town Centre,Wexford He...   \n11        M1R  Scarborough                                   Maryvale,Wexford   \n\n     Latitude  Longitude  \n0   43.806686 -79.194353  \n1   43.784535 -79.160497  \n2   43.763573 -79.188711  \n3   43.770992 -79.216917  \n4   43.773136 -79.239476  \n5   43.744734 -79.239476  \n6   43.727929 -79.262029  \n7   43.711112 -79.284577  \n8   43.716316 -79.239476  \n9   43.692657 -79.264848  \n10  43.757410 -79.273304  \n11  43.750072 -79.295849  "
                    }, 
                    "output_type": "execute_result"
                }
            ], 
            "source": "toronto_df_join = toronto_df_joined.set_index('PostalCode')\ncoordinates_join = coordinates.set_index('Postal Code')\ntoronto_df_coordinates = pd.concat([toronto_df_join, coordinates_join], axis=1, join='inner')\ntoronto_df_coordinates.index.name = 'PostalCode'\n\ntoronto_df_coordinates.reset_index(inplace=True)\ntoronto_df_coordinates.head(12)"
        }, 
        {
            "execution_count": 36, 
            "cell_type": "code", 
            "metadata": {}, 
            "outputs": [
                {
                    "execution_count": 36, 
                    "metadata": {}, 
                    "data": {
                        "text/plain": "(103, 5)"
                    }, 
                    "output_type": "execute_result"
                }
            ], 
            "source": "toronto_df_coordinates.shape"
        }, 
        {
            "source": "### TASK 3", 
            "cell_type": "markdown", 
            "metadata": {}
        }, 
        {
            "execution_count": 40, 
            "cell_type": "code", 
            "metadata": {}, 
            "outputs": [
                {
                    "output_type": "stream", 
                    "name": "stdout", 
                    "text": "The coordinates of Toronto City are 43.653963, -79.387207.\n"
                }
            ], 
            "source": "#Explore and cluster the neighborhoods in Toronto. \n# Get the coordinates of Toronto City\n\n\naddress = 'Toronto, Ontario'\n\ngeolocator = Nominatim(user_agent=\"tl-toronto-neigh\")\nlocation = geolocator.geocode(address)\nlatitude = location.latitude\nlongitude = location.longitude\nprint('The coordinates of Toronto City are {}, {}.'.format(latitude, longitude))\n"
        }, 
        {
            "execution_count": 44, 
            "cell_type": "code", 
            "metadata": {}, 
            "outputs": [
                {
                    "output_type": "stream", 
                    "name": "stdout", 
                    "text": "(38, 5)\n"
                }, 
                {
                    "execution_count": 44, 
                    "metadata": {}, 
                    "data": {
                        "text/html": "<div>\n<style scoped>\n    .dataframe tbody tr th:only-of-type {\n        vertical-align: middle;\n    }\n\n    .dataframe tbody tr th {\n        vertical-align: top;\n    }\n\n    .dataframe thead th {\n        text-align: right;\n    }\n</style>\n<table border=\"1\" class=\"dataframe\">\n  <thead>\n    <tr style=\"text-align: right;\">\n      <th></th>\n      <th>PostalCode</th>\n      <th>Borough</th>\n      <th>Neighbourhood</th>\n      <th>Latitude</th>\n      <th>Longitude</th>\n    </tr>\n  </thead>\n  <tbody>\n    <tr>\n      <th>0</th>\n      <td>M4E</td>\n      <td>East Toronto</td>\n      <td>The Beaches</td>\n      <td>43.676357</td>\n      <td>-79.293031</td>\n    </tr>\n    <tr>\n      <th>1</th>\n      <td>M4K</td>\n      <td>East Toronto</td>\n      <td>The Danforth West,Riverdale</td>\n      <td>43.679557</td>\n      <td>-79.352188</td>\n    </tr>\n    <tr>\n      <th>2</th>\n      <td>M4L</td>\n      <td>East Toronto</td>\n      <td>The Beaches West,India Bazaar</td>\n      <td>43.668999</td>\n      <td>-79.315572</td>\n    </tr>\n    <tr>\n      <th>3</th>\n      <td>M4M</td>\n      <td>East Toronto</td>\n      <td>Studio District</td>\n      <td>43.659526</td>\n      <td>-79.340923</td>\n    </tr>\n    <tr>\n      <th>4</th>\n      <td>M4N</td>\n      <td>Central Toronto</td>\n      <td>Lawrence Park</td>\n      <td>43.728020</td>\n      <td>-79.388790</td>\n    </tr>\n    <tr>\n      <th>5</th>\n      <td>M4P</td>\n      <td>Central Toronto</td>\n      <td>Davisville North</td>\n      <td>43.712751</td>\n      <td>-79.390197</td>\n    </tr>\n    <tr>\n      <th>6</th>\n      <td>M4R</td>\n      <td>Central Toronto</td>\n      <td>North Toronto West</td>\n      <td>43.715383</td>\n      <td>-79.405678</td>\n    </tr>\n    <tr>\n      <th>7</th>\n      <td>M4S</td>\n      <td>Central Toronto</td>\n      <td>Davisville</td>\n      <td>43.704324</td>\n      <td>-79.388790</td>\n    </tr>\n    <tr>\n      <th>8</th>\n      <td>M4T</td>\n      <td>Central Toronto</td>\n      <td>Moore Park,Summerhill East</td>\n      <td>43.689574</td>\n      <td>-79.383160</td>\n    </tr>\n    <tr>\n      <th>9</th>\n      <td>M4V</td>\n      <td>Central Toronto</td>\n      <td>Deer Park,Forest Hill SE,Rathnelly,South Hill,...</td>\n      <td>43.686412</td>\n      <td>-79.400049</td>\n    </tr>\n    <tr>\n      <th>10</th>\n      <td>M4W</td>\n      <td>Downtown Toronto</td>\n      <td>Rosedale</td>\n      <td>43.679563</td>\n      <td>-79.377529</td>\n    </tr>\n    <tr>\n      <th>11</th>\n      <td>M4X</td>\n      <td>Downtown Toronto</td>\n      <td>Cabbagetown,St. James Town</td>\n      <td>43.667967</td>\n      <td>-79.367675</td>\n    </tr>\n  </tbody>\n</table>\n</div>", 
                        "text/plain": "   PostalCode           Borough  \\\n0         M4E      East Toronto   \n1         M4K      East Toronto   \n2         M4L      East Toronto   \n3         M4M      East Toronto   \n4         M4N   Central Toronto   \n5         M4P   Central Toronto   \n6         M4R   Central Toronto   \n7         M4S   Central Toronto   \n8         M4T   Central Toronto   \n9         M4V   Central Toronto   \n10        M4W  Downtown Toronto   \n11        M4X  Downtown Toronto   \n\n                                        Neighbourhood   Latitude  Longitude  \n0                                         The Beaches  43.676357 -79.293031  \n1                         The Danforth West,Riverdale  43.679557 -79.352188  \n2                       The Beaches West,India Bazaar  43.668999 -79.315572  \n3                                     Studio District  43.659526 -79.340923  \n4                                       Lawrence Park  43.728020 -79.388790  \n5                                    Davisville North  43.712751 -79.390197  \n6                                  North Toronto West  43.715383 -79.405678  \n7                                          Davisville  43.704324 -79.388790  \n8                          Moore Park,Summerhill East  43.689574 -79.383160  \n9   Deer Park,Forest Hill SE,Rathnelly,South Hill,...  43.686412 -79.400049  \n10                                           Rosedale  43.679563 -79.377529  \n11                         Cabbagetown,St. James Town  43.667967 -79.367675  "
                    }, 
                    "output_type": "execute_result"
                }
            ], 
            "source": "#work with only boroughs that contain the word Toronto and then create clusters\n\ntoronto_boroughs_list = ['East Toronto', 'Central Toronto', 'Downtown Toronto', 'West Toronto']\ntoronto_word_df = toronto_df_coordinates[toronto_df_coordinates['Borough'].isin(toronto_boroughs_list)].reset_index(drop=True)\n\nprint(toronto_word_df.shape)\n\ntoronto_word_df.head(12)\n\n\n"
        }, 
        {
            "execution_count": 45, 
            "cell_type": "code", 
            "metadata": {}, 
            "outputs": [], 
            "source": "#Pass the coordinates to Foursquare\nCLIENT_ID = 'NQ4QLPVACRENFRRHCTHAQY332WY4WRRXHWIFQAG1TUYUPM4Z' # your Foursquare ID\nCLIENT_SECRET = 'W4UZSMLN1NT5HVNOCENZA3A1XS2PQCFGF4Q3VPFSRM1MDNFJ' # your Foursquare Secret\nVERSION = '20180605' # Foursquare API version"
        }, 
        {
            "execution_count": 54, 
            "cell_type": "code", 
            "metadata": {}, 
            "outputs": [], 
            "source": "#Explore\nradius = 500\nLIMIT = 100\n\nvenues = []\n\nfor lat, long, post, borough,neighborhood in zip(toronto_word_df['Latitude'], toronto_word_df['Longitude'], toronto_word_df['PostalCode'], toronto_word_df['Borough'],toronto_word_df['Neighbourhood']):\n    url = \"https://api.foursquare.com/v2/venues/explore?client_id={}&client_secret={}&v={}&ll={},{}&radius={}&limit={}\".format(\n        CLIENT_ID,\n        CLIENT_SECRET,\n        VERSION,\n        lat,\n        long,\n        radius, \n        LIMIT)\n    \n    results = requests.get(url).json()[\"response\"]['groups'][0]['items']\n    \n    for venue in results:\n        venues.append((\n            post, \n            borough,\n            neighborhood,\n            lat, \n            long, \n            venue['venue']['name'], \n            venue['venue']['location']['lat'], \n            venue['venue']['location']['lng'],  \n            venue['venue']['categories'][0]['name']))"
        }, 
        {
            "execution_count": 57, 
            "cell_type": "code", 
            "metadata": {}, 
            "outputs": [
                {
                    "output_type": "stream", 
                    "name": "stdout", 
                    "text": "(1700, 9)\n"
                }, 
                {
                    "execution_count": 57, 
                    "metadata": {}, 
                    "data": {
                        "text/html": "<div>\n<style scoped>\n    .dataframe tbody tr th:only-of-type {\n        vertical-align: middle;\n    }\n\n    .dataframe tbody tr th {\n        vertical-align: top;\n    }\n\n    .dataframe thead th {\n        text-align: right;\n    }\n</style>\n<table border=\"1\" class=\"dataframe\">\n  <thead>\n    <tr style=\"text-align: right;\">\n      <th></th>\n      <th>PostalCode</th>\n      <th>Borough</th>\n      <th>Neighborhood</th>\n      <th>BoroughLat</th>\n      <th>BoroughLong</th>\n      <th>VenueName</th>\n      <th>VenueLatitude</th>\n      <th>VenueLongitude</th>\n      <th>VenueCategory</th>\n    </tr>\n  </thead>\n  <tbody>\n    <tr>\n      <th>0</th>\n      <td>M4E</td>\n      <td>East Toronto</td>\n      <td>The Beaches</td>\n      <td>43.676357</td>\n      <td>-79.293031</td>\n      <td>The Big Carrot Natural Food Market</td>\n      <td>43.678879</td>\n      <td>-79.297734</td>\n      <td>Health Food Store</td>\n    </tr>\n    <tr>\n      <th>1</th>\n      <td>M4E</td>\n      <td>East Toronto</td>\n      <td>The Beaches</td>\n      <td>43.676357</td>\n      <td>-79.293031</td>\n      <td>Grover Pub and Grub</td>\n      <td>43.679181</td>\n      <td>-79.297215</td>\n      <td>Pub</td>\n    </tr>\n    <tr>\n      <th>2</th>\n      <td>M4E</td>\n      <td>East Toronto</td>\n      <td>The Beaches</td>\n      <td>43.676357</td>\n      <td>-79.293031</td>\n      <td>St-Denis Studios Inc.</td>\n      <td>43.675031</td>\n      <td>-79.288022</td>\n      <td>Music Venue</td>\n    </tr>\n    <tr>\n      <th>3</th>\n      <td>M4E</td>\n      <td>East Toronto</td>\n      <td>The Beaches</td>\n      <td>43.676357</td>\n      <td>-79.293031</td>\n      <td>Upper Beaches</td>\n      <td>43.680563</td>\n      <td>-79.292869</td>\n      <td>Neighborhood</td>\n    </tr>\n    <tr>\n      <th>4</th>\n      <td>M4K</td>\n      <td>East Toronto</td>\n      <td>The Danforth West,Riverdale</td>\n      <td>43.679557</td>\n      <td>-79.352188</td>\n      <td>Pantheon</td>\n      <td>43.677621</td>\n      <td>-79.351434</td>\n      <td>Greek Restaurant</td>\n    </tr>\n    <tr>\n      <th>5</th>\n      <td>M4K</td>\n      <td>East Toronto</td>\n      <td>The Danforth West,Riverdale</td>\n      <td>43.679557</td>\n      <td>-79.352188</td>\n      <td>Dolce Gelato</td>\n      <td>43.677773</td>\n      <td>-79.351187</td>\n      <td>Ice Cream Shop</td>\n    </tr>\n    <tr>\n      <th>6</th>\n      <td>M4K</td>\n      <td>East Toronto</td>\n      <td>The Danforth West,Riverdale</td>\n      <td>43.679557</td>\n      <td>-79.352188</td>\n      <td>MenEssentials</td>\n      <td>43.677820</td>\n      <td>-79.351265</td>\n      <td>Cosmetics Shop</td>\n    </tr>\n    <tr>\n      <th>7</th>\n      <td>M4K</td>\n      <td>East Toronto</td>\n      <td>The Danforth West,Riverdale</td>\n      <td>43.679557</td>\n      <td>-79.352188</td>\n      <td>Cafe Fiorentina</td>\n      <td>43.677743</td>\n      <td>-79.350115</td>\n      <td>Italian Restaurant</td>\n    </tr>\n    <tr>\n      <th>8</th>\n      <td>M4K</td>\n      <td>East Toronto</td>\n      <td>The Danforth West,Riverdale</td>\n      <td>43.679557</td>\n      <td>-79.352188</td>\n      <td>Mezes</td>\n      <td>43.677962</td>\n      <td>-79.350196</td>\n      <td>Greek Restaurant</td>\n    </tr>\n    <tr>\n      <th>9</th>\n      <td>M4K</td>\n      <td>East Toronto</td>\n      <td>The Danforth West,Riverdale</td>\n      <td>43.679557</td>\n      <td>-79.352188</td>\n      <td>Messini Authentic Gyros</td>\n      <td>43.677827</td>\n      <td>-79.350569</td>\n      <td>Greek Restaurant</td>\n    </tr>\n    <tr>\n      <th>10</th>\n      <td>M4K</td>\n      <td>East Toronto</td>\n      <td>The Danforth West,Riverdale</td>\n      <td>43.679557</td>\n      <td>-79.352188</td>\n      <td>Christina's On The Danforth</td>\n      <td>43.678240</td>\n      <td>-79.349185</td>\n      <td>Greek Restaurant</td>\n    </tr>\n    <tr>\n      <th>11</th>\n      <td>M4K</td>\n      <td>East Toronto</td>\n      <td>The Danforth West,Riverdale</td>\n      <td>43.679557</td>\n      <td>-79.352188</td>\n      <td>Louis Cifer Brew Works</td>\n      <td>43.677663</td>\n      <td>-79.351313</td>\n      <td>Brewery</td>\n    </tr>\n  </tbody>\n</table>\n</div>", 
                        "text/plain": "   PostalCode       Borough                 Neighborhood  BoroughLat  \\\n0         M4E  East Toronto                  The Beaches   43.676357   \n1         M4E  East Toronto                  The Beaches   43.676357   \n2         M4E  East Toronto                  The Beaches   43.676357   \n3         M4E  East Toronto                  The Beaches   43.676357   \n4         M4K  East Toronto  The Danforth West,Riverdale   43.679557   \n5         M4K  East Toronto  The Danforth West,Riverdale   43.679557   \n6         M4K  East Toronto  The Danforth West,Riverdale   43.679557   \n7         M4K  East Toronto  The Danforth West,Riverdale   43.679557   \n8         M4K  East Toronto  The Danforth West,Riverdale   43.679557   \n9         M4K  East Toronto  The Danforth West,Riverdale   43.679557   \n10        M4K  East Toronto  The Danforth West,Riverdale   43.679557   \n11        M4K  East Toronto  The Danforth West,Riverdale   43.679557   \n\n    BoroughLong                           VenueName  VenueLatitude  \\\n0    -79.293031  The Big Carrot Natural Food Market      43.678879   \n1    -79.293031                 Grover Pub and Grub      43.679181   \n2    -79.293031               St-Denis Studios Inc.      43.675031   \n3    -79.293031                       Upper Beaches      43.680563   \n4    -79.352188                            Pantheon      43.677621   \n5    -79.352188                        Dolce Gelato      43.677773   \n6    -79.352188                       MenEssentials      43.677820   \n7    -79.352188                     Cafe Fiorentina      43.677743   \n8    -79.352188                               Mezes      43.677962   \n9    -79.352188             Messini Authentic Gyros      43.677827   \n10   -79.352188         Christina's On The Danforth      43.678240   \n11   -79.352188              Louis Cifer Brew Works      43.677663   \n\n    VenueLongitude       VenueCategory  \n0       -79.297734   Health Food Store  \n1       -79.297215                 Pub  \n2       -79.288022         Music Venue  \n3       -79.292869        Neighborhood  \n4       -79.351434    Greek Restaurant  \n5       -79.351187      Ice Cream Shop  \n6       -79.351265      Cosmetics Shop  \n7       -79.350115  Italian Restaurant  \n8       -79.350196    Greek Restaurant  \n9       -79.350569    Greek Restaurant  \n10      -79.349185    Greek Restaurant  \n11      -79.351313             Brewery  "
                    }, 
                    "output_type": "execute_result"
                }
            ], 
            "source": "venues_df = pd.DataFrame(venues)\nvenues_df.columns = ['PostalCode', 'Borough', 'Neighborhood', 'BoroughLat', 'BoroughLong', 'VenueName', 'VenueLatitude', 'VenueLongitude', 'VenueCategory']\nprint(venues_df.shape)\nvenues_df.head(12)"
        }, 
        {
            "execution_count": 62, 
            "cell_type": "code", 
            "metadata": {}, 
            "outputs": [
                {
                    "execution_count": 62, 
                    "metadata": {}, 
                    "data": {
                        "text/plain": "PostalCode  Borough           Neighborhood                                                                                        \nM4E         East Toronto      The Beaches                                                                                               4\nM4K         East Toronto      The Danforth West,Riverdale                                                                              44\nM4L         East Toronto      The Beaches West,India Bazaar                                                                            22\nM4M         East Toronto      Studio District                                                                                          37\nM4N         Central Toronto   Lawrence Park                                                                                             4\nM4P         Central Toronto   Davisville North                                                                                          7\nM4R         Central Toronto   North Toronto West                                                                                       20\nM4S         Central Toronto   Davisville                                                                                               32\nM4T         Central Toronto   Moore Park,Summerhill East                                                                                3\nM4V         Central Toronto   Deer Park,Forest Hill SE,Rathnelly,South Hill,Summerhill West                                            14\nM4W         Downtown Toronto  Rosedale                                                                                                  4\nM4X         Downtown Toronto  Cabbagetown,St. James Town                                                                               44\nM4Y         Downtown Toronto  Church and Wellesley                                                                                     88\nM5A         Downtown Toronto  Harbourfront,Regent Park                                                                                 46\nM5B         Downtown Toronto  Ryerson,Garden District                                                                                 100\nM5C         Downtown Toronto  St. James Town                                                                                          100\nM5E         Downtown Toronto  Berczy Park                                                                                              57\nM5G         Downtown Toronto  Central Bay Street                                                                                       88\nM5H         Downtown Toronto  Adelaide,King,Richmond                                                                                  100\nM5J         Downtown Toronto  Harbourfront East,Toronto Islands,Union Station                                                         100\nM5K         Downtown Toronto  Design Exchange,Toronto Dominion Centre                                                                 100\nM5L         Downtown Toronto  Commerce Court,Victoria Hotel                                                                           100\nM5N         Central Toronto   Roselawn                                                                                                  1\nM5P         Central Toronto   Forest Hill North,Forest Hill West                                                                        4\nM5R         Central Toronto   The Annex,North Midtown,Yorkville                                                                        24\nM5S         Downtown Toronto  Harbord,University of Toronto                                                                            34\nM5T         Downtown Toronto  Chinatown,Grange Park,Kensington Market                                                                 100\nM5V         Downtown Toronto  CN Tower,Bathurst Quay,Island airport,Harbourfront West,King and Spadina,Railway Lands,South Niagara     15\nM5W         Downtown Toronto  Stn A PO Boxes 25 The Esplanade                                                                          95\nM5X         Downtown Toronto  First Canadian Place,Underground city                                                                   100\nM6G         Downtown Toronto  Christie                                                                                                 16\nM6H         West Toronto      Dovercourt Village,Dufferin                                                                              20\nM6J         West Toronto      Little Portugal,Trinity                                                                                  63\nM6K         West Toronto      Brockton,Exhibition Place,Parkdale Village                                                               19\nM6P         West Toronto      High Park,The Junction South                                                                             23\nM6R         West Toronto      Parkdale,Roncesvalles                                                                                    15\nM6S         West Toronto      Runnymede,Swansea                                                                                        40\nM7Y         East Toronto      Business Reply Mail Processing Centre 969 Eastern                                                        17\nName: VenueName, dtype: int64"
                    }, 
                    "output_type": "execute_result"
                }
            ], 
            "source": "countBy_df = venues_df.groupby(['PostalCode', 'Borough', 'Neighborhood'])['VenueName'].count()\ncountBy_df"
        }, 
        {
            "execution_count": null, 
            "cell_type": "code", 
            "metadata": {}, 
            "outputs": [], 
            "source": ""
        }
    ], 
    "metadata": {
        "kernelspec": {
            "display_name": "Python 3.5", 
            "name": "python3", 
            "language": "python"
        }, 
        "language_info": {
            "mimetype": "text/x-python", 
            "nbconvert_exporter": "python", 
            "version": "3.5.5", 
            "name": "python", 
            "file_extension": ".py", 
            "pygments_lexer": "ipython3", 
            "codemirror_mode": {
                "version": 3, 
                "name": "ipython"
            }
        }
    }, 
    "nbformat": 4
}